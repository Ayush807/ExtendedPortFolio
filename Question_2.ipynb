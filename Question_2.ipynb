{
  "nbformat": 4,
  "nbformat_minor": 0,
  "metadata": {
    "colab": {
      "name": "Question 2.ipynb",
      "provenance": [],
      "authorship_tag": "ABX9TyM8Q+j8taZ/XsObvtY10DdL",
      "include_colab_link": true
    },
    "kernelspec": {
      "name": "python3",
      "display_name": "Python 3"
    },
    "language_info": {
      "name": "python"
    }
  },
  "cells": [
    {
      "cell_type": "markdown",
      "metadata": {
        "id": "view-in-github",
        "colab_type": "text"
      },
      "source": [
        "<a href=\"https://colab.research.google.com/github/Ayush807/ExtendedPortFolio/blob/main/Question_2.ipynb\" target=\"_parent\"><img src=\"https://colab.research.google.com/assets/colab-badge.svg\" alt=\"Open In Colab\"/></a>"
      ]
    },
    {
      "cell_type": "code",
      "execution_count": null,
      "metadata": {
        "id": "B1lfX20zD0XM"
      },
      "outputs": [],
      "source": [
        "import pandas as pd"
      ]
    },
    {
      "cell_type": "code",
      "source": [
        "!wget -O elp_sales.csv https://drive.google.com/u/0/uc?id=1y5gjyxYFYcDiryUzDtBK0K6qAlC_eken&export=download"
      ],
      "metadata": {
        "colab": {
          "base_uri": "https://localhost:8080/"
        },
        "id": "AxyhG0lmD73O",
        "outputId": "8725e91e-e942-4df9-f67c-918597a32d6f"
      },
      "execution_count": null,
      "outputs": [
        {
          "output_type": "stream",
          "name": "stdout",
          "text": [
            "--2022-06-08 20:56:43--  https://drive.google.com/u/0/uc?id=1y5gjyxYFYcDiryUzDtBK0K6qAlC_eken\n",
            "Resolving drive.google.com (drive.google.com)... 142.250.157.138, 142.250.157.100, 142.250.157.139, ...\n",
            "Connecting to drive.google.com (drive.google.com)|142.250.157.138|:443... connected.\n",
            "HTTP request sent, awaiting response... 302 Found\n",
            "Location: https://drive.google.com/uc?id=1y5gjyxYFYcDiryUzDtBK0K6qAlC_eken [following]\n",
            "--2022-06-08 20:56:44--  https://drive.google.com/uc?id=1y5gjyxYFYcDiryUzDtBK0K6qAlC_eken\n",
            "Reusing existing connection to drive.google.com:443.\n",
            "HTTP request sent, awaiting response... 303 See Other\n",
            "Location: https://doc-0c-3c-docs.googleusercontent.com/docs/securesc/ha0ro937gcuc7l7deffksulhg5h7mbp1/45qkl0684octso095tecg5e9i7heou60/1654721775000/08887908034198645755/*/1y5gjyxYFYcDiryUzDtBK0K6qAlC_eken [following]\n",
            "Warning: wildcards not supported in HTTP.\n",
            "--2022-06-08 20:56:44--  https://doc-0c-3c-docs.googleusercontent.com/docs/securesc/ha0ro937gcuc7l7deffksulhg5h7mbp1/45qkl0684octso095tecg5e9i7heou60/1654721775000/08887908034198645755/*/1y5gjyxYFYcDiryUzDtBK0K6qAlC_eken\n",
            "Resolving doc-0c-3c-docs.googleusercontent.com (doc-0c-3c-docs.googleusercontent.com)... 142.250.157.132, 2404:6800:4008:c13::84\n",
            "Connecting to doc-0c-3c-docs.googleusercontent.com (doc-0c-3c-docs.googleusercontent.com)|142.250.157.132|:443... connected.\n",
            "HTTP request sent, awaiting response... 200 OK\n",
            "Length: 12744 (12K) [text/csv]\n",
            "Saving to: ‘elp_sales.csv’\n",
            "\n",
            "elp_sales.csv       100%[===================>]  12.45K  --.-KB/s    in 0.001s  \n",
            "\n",
            "2022-06-08 20:56:45 (11.8 MB/s) - ‘elp_sales.csv’ saved [12744/12744]\n",
            "\n"
          ]
        }
      ]
    },
    {
      "cell_type": "code",
      "source": [
        "df = pd.read_csv ('elp_sales.csv')\n",
        "print(df)"
      ],
      "metadata": {
        "colab": {
          "base_uri": "https://localhost:8080/"
        },
        "id": "IlCB2BdwD8C9",
        "outputId": "d4e702ee-864e-41ac-e1b6-68a179a5db9b"
      },
      "execution_count": null,
      "outputs": [
        {
          "output_type": "stream",
          "name": "stdout",
          "text": [
            "                               Region                Country        Item Type  \\\n",
            "0               Australia and Oceania                 Tuvalu        Baby Food   \n",
            "1   Central America and the Caribbean                Grenada           Cereal   \n",
            "2                              Europe                 Russia  Office Supplies   \n",
            "3                  Sub-Saharan Africa  Sao Tome and Principe           Fruits   \n",
            "4                  Sub-Saharan Africa                 Rwanda  Office Supplies   \n",
            "..                                ...                    ...              ...   \n",
            "95                 Sub-Saharan Africa                   Mali          Clothes   \n",
            "96                               Asia               Malaysia           Fruits   \n",
            "97                 Sub-Saharan Africa           Sierra Leone       Vegetables   \n",
            "98                      North America                 Mexico    Personal Care   \n",
            "99                 Sub-Saharan Africa             Mozambique        Household   \n",
            "\n",
            "   Sales Channel Order Priority  Order Date   Order ID   Ship Date  \\\n",
            "0        Offline              H   5/28/2010  669165933   6/27/2010   \n",
            "1         Online              C   8/22/2012  963881480   9/15/2012   \n",
            "2        Offline              L    5/2/2014  341417157    5/8/2014   \n",
            "3         Online              C   6/20/2014  514321792    7/5/2014   \n",
            "4        Offline              L    2/1/2013  115456712    2/6/2013   \n",
            "..           ...            ...         ...        ...         ...   \n",
            "95        Online              M   7/26/2011  512878119    9/3/2011   \n",
            "96       Offline              L  11/11/2011  810711038  12/28/2011   \n",
            "97       Offline              C    6/1/2016  728815257   6/29/2016   \n",
            "98       Offline              M   7/30/2015  559427106    8/8/2015   \n",
            "99       Offline              L   2/10/2012  665095412   2/15/2012   \n",
            "\n",
            "    Units Sold  Unit Price  Unit Cost  Total Revenue  Total Cost  Total Profit  \n",
            "0         9925      255.28     159.42     2533654.00  1582243.50     951410.50  \n",
            "1         2804      205.70     117.11      576782.80   328376.44     248406.36  \n",
            "2         1779      651.21     524.96     1158502.59   933903.84     224598.75  \n",
            "3         8102        9.33       6.92       75591.66    56065.84      19525.82  \n",
            "4         5062      651.21     524.96     3296425.02  2657347.52     639077.50  \n",
            "..         ...         ...        ...            ...         ...           ...  \n",
            "95         888      109.28      35.84       97040.64    31825.92      65214.72  \n",
            "96        6267        9.33       6.92       58471.11    43367.64      15103.47  \n",
            "97        1485      154.06      90.93      228779.10   135031.05      93748.05  \n",
            "98        5767       81.73      56.67      471336.91   326815.89     144521.02  \n",
            "99        5367      668.27     502.54     3586605.09  2697132.18     889472.91  \n",
            "\n",
            "[100 rows x 14 columns]\n"
          ]
        }
      ]
    },
    {
      "cell_type": "code",
      "source": [
        "ausRegion = df.loc[df['Region'] == 'Australia and Oceania' ]\n",
        "print(ausRegion)"
      ],
      "metadata": {
        "colab": {
          "base_uri": "https://localhost:8080/"
        },
        "id": "5X4gSCTfD8J6",
        "outputId": "ecb3ca64-fddc-4190-ce87-2cbeb3b6aa6b"
      },
      "execution_count": null,
      "outputs": [
        {
          "output_type": "stream",
          "name": "stdout",
          "text": [
            "                   Region                         Country        Item Type  \\\n",
            "0   Australia and Oceania                          Tuvalu        Baby Food   \n",
            "5   Australia and Oceania                 Solomon Islands        Baby Food   \n",
            "19  Australia and Oceania                      East Timor             Meat   \n",
            "23  Australia and Oceania                     New Zealand           Fruits   \n",
            "26  Australia and Oceania                        Kiribati           Fruits   \n",
            "32  Australia and Oceania                       Australia  Office Supplies   \n",
            "56  Australia and Oceania                            Fiji          Clothes   \n",
            "60  Australia and Oceania                       Australia           Cereal   \n",
            "76  Australia and Oceania  Federated States of Micronesia        Beverages   \n",
            "79  Australia and Oceania                          Samoa         Cosmetics   \n",
            "91  Australia and Oceania                       Australia        Beverages   \n",
            "\n",
            "   Sales Channel Order Priority  Order Date   Order ID   Ship Date  \\\n",
            "0        Offline              H   5/28/2010  669165933   6/27/2010   \n",
            "5         Online              C    2/4/2015  547995746   2/21/2015   \n",
            "19        Online              L   7/31/2012  322067916   9/11/2012   \n",
            "23        Online              H    9/8/2014  142278373   10/4/2014   \n",
            "26        Online              M  10/13/2014  347140347  11/10/2014   \n",
            "32        Online              C  10/27/2015  158535134  11/25/2015   \n",
            "56       Offline              C   6/30/2010  647876489    8/1/2010   \n",
            "60       Offline              H    6/9/2013  450563752    7/2/2013   \n",
            "76        Online              C  10/28/2014  217221009  11/15/2014   \n",
            "79        Online              H   7/20/2013  670854651    8/7/2013   \n",
            "91       Offline              H    7/7/2014  240470397   7/11/2014   \n",
            "\n",
            "    Units Sold  Unit Price  Unit Cost  Total Revenue  Total Cost  Total Profit  \n",
            "0         9925      255.28     159.42     2533654.00  1582243.50     951410.50  \n",
            "5         2974      255.28     159.42      759202.72   474115.08     285087.64  \n",
            "19        5908      421.89     364.69     2492526.12  2154588.52     337937.60  \n",
            "23        2187        9.33       6.92       20404.71    15134.04       5270.67  \n",
            "26        5398        9.33       6.92       50363.34    37354.16      13009.18  \n",
            "32        2924      651.21     524.96     1904138.04  1534983.04     369155.00  \n",
            "56        9905      109.28      35.84     1082418.40   354995.20     727423.20  \n",
            "60         682      205.70     117.11      140287.40    79869.02      60418.38  \n",
            "76        9379       47.45      31.79      445033.55   298158.41     146875.14  \n",
            "79        9654      437.20     263.33     4220728.80  2542187.82    1678540.98  \n",
            "91        9389       47.45      31.79      445508.05   298476.31     147031.74  \n"
          ]
        }
      ]
    },
    {
      "cell_type": "code",
      "source": [
        "mmm = df.pivot_table(index=['Country'], values=['Total Profit'], aggfunc={'max','min','mean'})\n",
        "\n",
        "print (mmm)"
      ],
      "metadata": {
        "id": "GjB1DU-0D8Pu",
        "colab": {
          "base_uri": "https://localhost:8080/"
        },
        "outputId": "87732aa1-90ca-41a2-ebf6-e0b5be359a1e"
      },
      "execution_count": null,
      "outputs": [
        {
          "output_type": "stream",
          "name": "stdout",
          "text": [
            "               Total Profit                          \n",
            "                        max           mean        min\n",
            "Country                                              \n",
            "Albania           166635.36  166635.360000  166635.36\n",
            "Angola            693911.51  693911.510000  693911.51\n",
            "Australia         369155.00  192201.706667   60418.38\n",
            "Austria           495007.89  495007.890000  495007.89\n",
            "Azerbaijan       1257775.58  756463.415000  255151.25\n",
            "...                     ...            ...        ...\n",
            "The Gambia        532885.74  346470.817500  187545.03\n",
            "Turkmenistan      634745.90  633629.200000  632512.50\n",
            "Tuvalu            951410.50  951410.500000  951410.50\n",
            "United Kingdom     46735.86   46735.860000   46735.86\n",
            "Zambia            225246.90  225246.900000  225246.90\n",
            "\n",
            "[76 rows x 3 columns]\n"
          ]
        }
      ]
    },
    {
      "cell_type": "code",
      "source": [
        "import matplotlib.pyplot as plt"
      ],
      "metadata": {
        "id": "3sPBx8wiSPu2"
      },
      "execution_count": null,
      "outputs": []
    },
    {
      "cell_type": "code",
      "source": [
        "profitByCountry = ausRegion.pivot_table(index = ['Country'], values =['Total Profit'], aggfunc={sum})\n",
        "profitByCountry.plot()\n",
        "plt.show()"
      ],
      "metadata": {
        "colab": {
          "base_uri": "https://localhost:8080/",
          "height": 290
        },
        "id": "l4T-gzxISQDK",
        "outputId": "5a9386c5-7090-4fbf-f96c-bbee9951b237"
      },
      "execution_count": null,
      "outputs": [
        {
          "output_type": "display_data",
          "data": {
            "text/plain": [
              "<Figure size 432x288 with 1 Axes>"
            ],
            "image/png": "[encoded data removed]"
          },
          "metadata": {
            "needs_background": "light"
          }
        }
      ]
    }
  ]
}