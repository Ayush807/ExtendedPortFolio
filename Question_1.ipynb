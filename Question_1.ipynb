{
  "nbformat": 4,
  "nbformat_minor": 0,
  "metadata": {
    "colab": {
      "name": "Question 1.ipynb",
      "provenance": [],
      "authorship_tag": "ABX9TyO0puSlJ8xbungsTkENZxVc",
      "include_colab_link": true
    },
    "kernelspec": {
      "name": "python3",
      "display_name": "Python 3"
    },
    "language_info": {
      "name": "python"
    }
  },
  "cells": [
    {
      "cell_type": "markdown",
      "metadata": {
        "id": "view-in-github",
        "colab_type": "text"
      },
      "source": [
        "<a href=\"https://colab.research.google.com/github/Ayush807/ExtendedPortFolio/blob/main/Question_1.ipynb\" target=\"_parent\"><img src=\"https://colab.research.google.com/assets/colab-badge.svg\" alt=\"Open In Colab\"/></a>"
      ]
    },
    {
      "cell_type": "code",
      "execution_count": null,
      "metadata": {
        "colab": {
          "base_uri": "https://localhost:8080/"
        },
        "id": "70x_nNNWQK6Y",
        "outputId": "bcf60166-c166-47d5-c589-4b46befbc424"
      },
      "outputs": [
        {
          "output_type": "stream",
          "name": "stdout",
          "text": [
            "Money Exchange\n",
            "Please enter (D) for American Dollar or (Y) for Japanese Yen: D\n",
            "Please enter the amount you need to be converted: 1\n",
            "1.0 American Dollars is equal to 1.38 Australian Dollars\n"
          ]
        }
      ],
      "source": [
        "print(\"Money Exchange\")\n",
        "Exch = input(\"Please enter (D) for American Dollar or (Y) for Japanese Yen: \")\n",
        "if Exch == \"D\" :\n",
        "  amt= float(input(\"Please enter the amount you need to be converted: \"))\n",
        "  c = amt * 1.38\n",
        "  c2 = round(c,2)\n",
        "  print(amt,\"American Dollars is equal to\",c2,\"Australian Dollars\")\n",
        "if Exch == \"Y\" :\n",
        "  amt= float(input(\"Please enter the amount you need to be converted: \"))\n",
        "  c = amt * 0.01\n",
        "  c2 = round(c,2)\n",
        "  print(amt,\"Japanese Yen is equal to\",c2,\"Australian Dollars\")"
      ]
    }
  ]
}